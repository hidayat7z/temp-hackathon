{
 "cells": [
  {
   "cell_type": "code",
   "execution_count": 27,
   "metadata": {},
   "outputs": [],
   "source": [
    "from requests import Request, Session\n",
    "import json \n",
    "from requests import Request, Session\n",
    "import json\n",
    "import pprint"
   ]
  },
  {
   "cell_type": "code",
   "execution_count": 28,
   "metadata": {},
   "outputs": [],
   "source": [
    "url='https://pro-api.coinmarketcap.com/v1/cryptocurrency/quotes/latest'"
   ]
  },
  {
   "cell_type": "code",
   "execution_count": 29,
   "metadata": {},
   "outputs": [],
   "source": [
    "parameters={\n",
    "    'slug':'bitcoin',\n",
    "    'convert':'USD'\n",
    "}"
   ]
  },
  {
   "cell_type": "code",
   "execution_count": 31,
   "metadata": {},
   "outputs": [
    {
     "name": "stdout",
     "output_type": "stream",
     "text": [
      "63396.479685351136\n"
     ]
    }
   ],
   "source": [
    "headers={\n",
    "    'Accepts':'applicatio/json',\n",
    "    'X-CMC_PRO_API_KEY':'45c28d57-4ac0-40a3-8fc3-4f89c268eacf'\n",
    "}\n",
    "session = Session()\n",
    "session.headers.update(headers)\n",
    "response=session.get(url,params=parameters)\n",
    "pprint.pprint(json.loads(response.text)['data']['1']['quote']['USD']['price'])"
   ]
  },
  {
   "cell_type": "code",
   "execution_count": null,
   "metadata": {},
   "outputs": [],
   "source": []
  }
 ],
 "metadata": {
  "kernelspec": {
   "display_name": "Python 3",
   "language": "python",
   "name": "python3"
  },
  "language_info": {
   "codemirror_mode": {
    "name": "ipython",
    "version": 3
   },
   "file_extension": ".py",
   "mimetype": "text/x-python",
   "name": "python",
   "nbconvert_exporter": "python",
   "pygments_lexer": "ipython3",
   "version": "3.8.3"
  }
 },
 "nbformat": 4,
 "nbformat_minor": 4
}
